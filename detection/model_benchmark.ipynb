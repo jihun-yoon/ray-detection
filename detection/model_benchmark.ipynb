{
 "cells": [
  {
   "cell_type": "markdown",
   "metadata": {},
   "source": [
    "# Model Benchmark\n",
    "This notebook shows you a total inference time of Mask RCNN ResNet50 model from an image loading to postprocessing"
   ]
  },
  {
   "cell_type": "code",
   "execution_count": 1,
   "metadata": {},
   "outputs": [],
   "source": [
    "import time\n",
    "import requests\n",
    "\n",
    "from io import BytesIO\n",
    "from PIL import Image\n",
    "\n",
    "import torch\n",
    "import torchvision\n",
    "import transforms as T\n",
    "\n",
    "import ray"
   ]
  },
  {
   "cell_type": "code",
   "execution_count": 2,
   "metadata": {},
   "outputs": [],
   "source": [
    "# Setup for test \n",
    "\n",
    "# Model Loading\n",
    "model = torchvision.models.detection.__dict__[\n",
    "                \"maskrcnn_resnet50_fpn\"](pretrained=True).cuda().eval()\n",
    "\n",
    "# Image Loading\n",
    "test_image_bytes = requests.get(\n",
    "        \"http://farm8.staticflickr.com/7353/9879082044_66c4f5a6fb_z.jpg\"\n",
    "    ).content\n",
    "image_payload_bytes = test_image_bytes\n",
    "pil_image = Image.open(BytesIO(image_payload_bytes))\n",
    "pil_images = [pil_image]\n",
    "\n",
    "# Image Preprocessing\n",
    "input_tensor = torch.cat(\n",
    "                [T.ToTensor()(i)[0] for i in pil_images]).cuda()\n",
    "\n",
    "# Inference\n",
    "output_tensor = model([input_tensor])\n",
    "\n",
    "# Prediction Postprocessing\n",
    "result = {}\n",
    "for k in output_tensor[0]:\n",
    "    result[k] = output_tensor[0][k].cpu().detach().numpy()"
   ]
  },
  {
   "cell_type": "code",
   "execution_count": 3,
   "metadata": {},
   "outputs": [
    {
     "name": "stdout",
     "output_type": "stream",
     "text": [
      "44 ms ± 1.54 ms per loop (mean ± std. dev. of 7 runs, 10 loops each)\n"
     ]
    }
   ],
   "source": [
    "%%timeit\n",
    "# Image Loading\n",
    "test_image_bytes = requests.get(\n",
    "        \"http://farm8.staticflickr.com/7353/9879082044_66c4f5a6fb_z.jpg\"\n",
    "    ).content\n",
    "image_payload_bytes = test_image_bytes\n",
    "pil_image = Image.open(BytesIO(image_payload_bytes))\n",
    "pil_images = [pil_image]"
   ]
  },
  {
   "cell_type": "code",
   "execution_count": 4,
   "metadata": {},
   "outputs": [
    {
     "name": "stdout",
     "output_type": "stream",
     "text": [
      "3.15 ms ± 432 µs per loop (mean ± std. dev. of 7 runs, 100 loops each)\n"
     ]
    }
   ],
   "source": [
    "%%timeit\n",
    "# Image Preprocessing\n",
    "input_tensor = torch.cat(\n",
    "                [T.ToTensor()(i)[0] for i in pil_images]).cuda()"
   ]
  },
  {
   "cell_type": "code",
   "execution_count": 5,
   "metadata": {},
   "outputs": [
    {
     "name": "stdout",
     "output_type": "stream",
     "text": [
      "72.7 ms ± 1.17 ms per loop (mean ± std. dev. of 7 runs, 10 loops each)\n"
     ]
    }
   ],
   "source": [
    "%%timeit\n",
    "# Inference\n",
    "with torch.no_grad():\n",
    "    output_tensor = model([input_tensor])\n"
   ]
  },
  {
   "cell_type": "code",
   "execution_count": 6,
   "metadata": {},
   "outputs": [
    {
     "name": "stdout",
     "output_type": "stream",
     "text": [
      "402 µs ± 7.59 µs per loop (mean ± std. dev. of 7 runs, 1000 loops each)\n"
     ]
    }
   ],
   "source": [
    "%%timeit\n",
    "# Prediction Postprocessing\n",
    "result = {}\n",
    "for k in output_tensor[0]:\n",
    "    result[k] = output_tensor[0][k].cpu().detach().numpy()"
   ]
  },
  {
   "cell_type": "code",
   "execution_count": 7,
   "metadata": {},
   "outputs": [
    {
     "name": "stdout",
     "output_type": "stream",
     "text": [
      "154 ms ± 7.18 ms per loop (mean ± std. dev. of 7 runs, 10 loops each)\n"
     ]
    }
   ],
   "source": [
    "%%timeit\n",
    "# test all\n",
    "test_image_bytes = requests.get(\n",
    "        \"http://farm8.staticflickr.com/7353/9879082044_66c4f5a6fb_z.jpg\"\n",
    "    ).content\n",
    "image_payload_bytes = test_image_bytes\n",
    "pil_image = Image.open(BytesIO(image_payload_bytes))\n",
    "pil_images = [pil_image]\n",
    "input_tensor = torch.cat(\n",
    "                [T.ToTensor()(i)[0] for i in pil_images]).cuda()\n",
    "output_tensor = model([input_tensor])\n",
    "result = {}\n",
    "for k in output_tensor[0]:\n",
    "    result[k] = output_tensor[0][k].cpu().detach().numpy()"
   ]
  }
 ],
 "metadata": {
  "interpreter": {
   "hash": "fcbe54c76f3dca794c11e8322d1617e46429377345b9ec76923379694e754b50"
  },
  "kernelspec": {
   "display_name": "Python 3.8.11 64-bit ('ray-detection': conda)",
   "name": "python3"
  },
  "language_info": {
   "codemirror_mode": {
    "name": "ipython",
    "version": 3
   },
   "file_extension": ".py",
   "mimetype": "text/x-python",
   "name": "python",
   "nbconvert_exporter": "python",
   "pygments_lexer": "ipython3",
   "version": "3.8.11"
  },
  "orig_nbformat": 4
 },
 "nbformat": 4,
 "nbformat_minor": 2
}
